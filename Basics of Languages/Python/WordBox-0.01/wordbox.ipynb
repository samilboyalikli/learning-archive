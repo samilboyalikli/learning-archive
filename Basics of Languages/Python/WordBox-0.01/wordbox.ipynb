{
 "cells": [
  {
   "cell_type": "code",
   "execution_count": 1,
   "metadata": {},
   "outputs": [],
   "source": [
    "import json\n",
    "import random\n",
    "\n",
    "file_path = \"dataset.json\"\n",
    "with open(file_path, \"r\") as file:\n",
    "    dataset = json.load(file)"
   ]
  },
  {
   "cell_type": "code",
   "execution_count": 2,
   "metadata": {},
   "outputs": [
    {
     "name": "stdout",
     "output_type": "stream",
     "text": [
      "anyone\n"
     ]
    }
   ],
   "source": [
    "a1 = dataset.get(\"A1\", {})\n",
    "a = a1.get(\"A\", {})\n",
    "random_word = random.choice(a)\n",
    "word = random_word.get(\"card_name\", \"\")\n",
    "print(word)"
   ]
  },
  {
   "cell_type": "code",
   "execution_count": 9,
   "metadata": {},
   "outputs": [
    {
     "name": "stdout",
     "output_type": "stream",
     "text": [
      "[{'about': 'hakkında'}, {'above': 'üstünde'}, {'across': 'karşısında'}, {'action': 'aksiyon'}, {'activity': 'aktivite'}, {'actor': 'erkek oyuncu'}, {'actress': 'kadın oyuncu'}, {'add': 'eklemek'}, {'address': 'adres'}, {'adult': 'yetişkin'}, {'advice': 'tavsiye'}, {'afraid': 'korkmuş'}, {'after': 'sonra'}, {'afternoon': 'öğleden sonra'}, {'again': 'bir daha'}, {'age': 'yaş'}, {'ago': 'önce'}, {'agree': 'kabul etmek'}, {'air': 'hava'}, {'airport': 'havaalanı'}, {'all': 'tüm'}, {'also': 'ayrıca'}, {'always': 'daima'}, {'amazing': 'şaşırtıcı'}, {'and': 've'}, {'angry': 'sinirli'}, {'animal': 'hayvan'}, {'another': 'öbür'}, {'answer': 'cevap'}, {'any': 'herhangi'}, {'anyone': 'herhangi biri'}, {'anything': 'herşey'}, {'apartment': 'daire'}, {'apple': 'elma'}, {'april': 'nisan'}, {'area': 'alan'}, {'arm': 'kol'}, {'around': 'etrafında'}, {'arrive': 'varmak'}, {'art': 'sanat'}, {'article': 'madde'}, {'artist': 'sanatçı'}, {'as': 'gibi'}, {'ask': 'soru sormak'}, {'at': 'üzere'}, {'august': 'ağustos'}, {'aunt': 'teyze'}, {'autumn': 'sonbahar'}, {'away': 'uzak'}]\n"
     ]
    }
   ],
   "source": [
    "daily_words = []\n",
    "for item in a:\n",
    "    if item[\"card_type\"] == \"Daily\":\n",
    "        word_dict = {}\n",
    "        daily_word = item.get(\"card_name\", \"\")\n",
    "        daily_opposite = item.get(\"card_opposite\", \"\")\n",
    "        word_dict[daily_word] = daily_opposite\n",
    "        daily_words.append(word_dict)\n",
    "    else: print(\"weekly words or other things\")\n",
    "print(daily_words)"
   ]
  },
  {
   "cell_type": "code",
   "execution_count": null,
   "metadata": {},
   "outputs": [
    {
     "name": "stdout",
     "output_type": "stream",
     "text": [
      "dict_items([('apartment', 'daire')])\n"
     ]
    },
    {
     "ename": "TypeError",
     "evalue": "get expected at least 1 argument, got 0",
     "output_type": "error",
     "traceback": [
      "\u001b[0;31m---------------------------------------------------------------------------\u001b[0m",
      "\u001b[0;31mTypeError\u001b[0m                                 Traceback (most recent call last)",
      "Cell \u001b[0;32mIn[13], line 3\u001b[0m\n\u001b[1;32m      1\u001b[0m random_word \u001b[38;5;241m=\u001b[39m random\u001b[38;5;241m.\u001b[39mchoice(daily_words)\n\u001b[1;32m      2\u001b[0m \u001b[38;5;28mprint\u001b[39m(random_word\u001b[38;5;241m.\u001b[39mitems())\n\u001b[0;32m----> 3\u001b[0m \u001b[38;5;28mprint\u001b[39m(\u001b[43mrandom_word\u001b[49m\u001b[38;5;241;43m.\u001b[39;49m\u001b[43mget\u001b[49m\u001b[43m(\u001b[49m\u001b[43m)\u001b[49m)\n",
      "\u001b[0;31mTypeError\u001b[0m: get expected at least 1 argument, got 0"
     ]
    }
   ],
   "source": [
    "random_word = random.choice(daily_words)"
   ]
  },
  {
   "cell_type": "code",
   "execution_count": 5,
   "metadata": {},
   "outputs": [
    {
     "name": "stdout",
     "output_type": "stream",
     "text": [
      "across\n",
      "across\n",
      "across\n",
      "across\n",
      "across\n",
      "across\n",
      "across\n",
      "across\n",
      "across\n",
      "across\n"
     ]
    }
   ],
   "source": [
    "random_word = random.choice(a)\n",
    "b = 0\n",
    "while random_word[\"card_type\"] == \"Daily\":\n",
    "    b = b+1\n",
    "    word = random_word.get(\"card_name\", \"\")\n",
    "    opposite = random_word.get(\"card_opposite\", \"\")\n",
    "    print(word)\n",
    "    if b == 10:\n",
    "        break"
   ]
  }
 ],
 "metadata": {
  "kernelspec": {
   "display_name": "base",
   "language": "python",
   "name": "python3"
  },
  "language_info": {
   "codemirror_mode": {
    "name": "ipython",
    "version": 3
   },
   "file_extension": ".py",
   "mimetype": "text/x-python",
   "name": "python",
   "nbconvert_exporter": "python",
   "pygments_lexer": "ipython3",
   "version": "3.12.2"
  }
 },
 "nbformat": 4,
 "nbformat_minor": 2
}
