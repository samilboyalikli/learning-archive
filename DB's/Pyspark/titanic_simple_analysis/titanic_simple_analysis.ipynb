{
 "cells": [
  {
   "cell_type": "code",
   "execution_count": 3,
   "metadata": {},
   "outputs": [],
   "source": [
    "from pyspark.sql import SparkSession\n",
    "from pyspark.sql import functions as f"
   ]
  },
  {
   "cell_type": "code",
   "execution_count": 5,
   "metadata": {},
   "outputs": [],
   "source": [
    "spark = SparkSession.builder.getOrCreate()"
   ]
  },
  {
   "cell_type": "code",
   "execution_count": 7,
   "metadata": {},
   "outputs": [],
   "source": [
    "df = spark.read.csv(\"train.csv\", header=True, inferSchema=True)"
   ]
  },
  {
   "cell_type": "code",
   "execution_count": 8,
   "metadata": {},
   "outputs": [],
   "source": [
    "df.createOrReplaceTempView(\"titanic\")"
   ]
  },
  {
   "cell_type": "markdown",
   "metadata": {},
   "source": [
    "##### SCOPE\n",
    "Here I try to get the requests with spark methods and sql queries. The requests according to `titanic_simple_analysis.py` file:\n",
    "1. Schema of the dataset.\n",
    "2. Gender distribution of cleaned dataset.\n",
    "3. City distribution of cleaned dataset.\n",
    "4. Average of descriptive stats.\n",
    "5. Describe of descriptive stats.\n",
    "6. Median of descriptive stats.\n",
    "7. Price averages according to classes.\n",
    "8. Association between price and age.\n",
    "9. Family size table.\n",
    "10. Age group table. <br> <br> <br>\n",
    "***\n",
    "##### TODO\n",
    "- [x] Schema of the dataset.\n",
    "- [ ] Gender distribution of cleaned dataset.\n",
    "- [ ] City distribution of cleaned dataset.\n",
    "- [ ] Average of descriptive stats.\n",
    "- [ ] Describe of descriptive stats.\n",
    "- [ ] Median of descriptive stats.\n",
    "- [ ] Price averages according to classes.\n",
    "- [ ] Association between price and age.\n",
    "- [ ] Family size table.\n",
    "- [ ] Age group table."
   ]
  },
  {
   "cell_type": "code",
   "execution_count": 9,
   "metadata": {},
   "outputs": [
    {
     "name": "stdout",
     "output_type": "stream",
     "text": [
      "root\n",
      " |-- PassengerId: integer (nullable = true)\n",
      " |-- Survived: integer (nullable = true)\n",
      " |-- Pclass: integer (nullable = true)\n",
      " |-- Name: string (nullable = true)\n",
      " |-- Sex: string (nullable = true)\n",
      " |-- Age: double (nullable = true)\n",
      " |-- SibSp: integer (nullable = true)\n",
      " |-- Parch: integer (nullable = true)\n",
      " |-- Ticket: string (nullable = true)\n",
      " |-- Fare: double (nullable = true)\n",
      " |-- Cabin: string (nullable = true)\n",
      " |-- Embarked: string (nullable = true)\n",
      "\n"
     ]
    }
   ],
   "source": [
    "df.printSchema()"
   ]
  },
  {
   "cell_type": "code",
   "execution_count": 10,
   "metadata": {},
   "outputs": [
    {
     "name": "stdout",
     "output_type": "stream",
     "text": [
      "+-----------+---------+-------+\n",
      "|   col_name|data_type|comment|\n",
      "+-----------+---------+-------+\n",
      "|PassengerId|      int|   NULL|\n",
      "|   Survived|      int|   NULL|\n",
      "|     Pclass|      int|   NULL|\n",
      "|       Name|   string|   NULL|\n",
      "|        Sex|   string|   NULL|\n",
      "|        Age|   double|   NULL|\n",
      "|      SibSp|      int|   NULL|\n",
      "|      Parch|      int|   NULL|\n",
      "|     Ticket|   string|   NULL|\n",
      "|       Fare|   double|   NULL|\n",
      "|      Cabin|   string|   NULL|\n",
      "|   Embarked|   string|   NULL|\n",
      "+-----------+---------+-------+\n",
      "\n"
     ]
    }
   ],
   "source": [
    "spark.sql(\"DESCRIBE titanic;\").show()"
   ]
  },
  {
   "cell_type": "code",
   "execution_count": null,
   "metadata": {},
   "outputs": [],
   "source": []
  }
 ],
 "metadata": {
  "kernelspec": {
   "display_name": "pyspark_env",
   "language": "python",
   "name": "python3"
  },
  "language_info": {
   "codemirror_mode": {
    "name": "ipython",
    "version": 3
   },
   "file_extension": ".py",
   "mimetype": "text/x-python",
   "name": "python",
   "nbconvert_exporter": "python",
   "pygments_lexer": "ipython3",
   "version": "3.12.7"
  }
 },
 "nbformat": 4,
 "nbformat_minor": 2
}
