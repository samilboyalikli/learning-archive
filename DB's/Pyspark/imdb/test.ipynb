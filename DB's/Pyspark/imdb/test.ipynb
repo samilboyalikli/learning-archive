{
 "cells": [
  {
   "cell_type": "code",
   "execution_count": 1,
   "metadata": {},
   "outputs": [],
   "source": [
    "from pyspark.sql import SparkSession"
   ]
  },
  {
   "cell_type": "code",
   "execution_count": 3,
   "metadata": {},
   "outputs": [],
   "source": [
    "spark = SparkSession.builder.getOrCreate()"
   ]
  },
  {
   "cell_type": "code",
   "execution_count": 6,
   "metadata": {},
   "outputs": [],
   "source": [
    "df = spark.read.csv(\"data.csv\", header=True)"
   ]
  },
  {
   "cell_type": "code",
   "execution_count": 34,
   "metadata": {},
   "outputs": [
    {
     "name": "stdout",
     "output_type": "stream",
     "text": [
      "root\n",
      " |-- id: string (nullable = true)\n",
      " |-- title: string (nullable = true)\n",
      " |-- type: string (nullable = true)\n",
      " |-- genres: string (nullable = true)\n",
      " |-- averageRating: string (nullable = true)\n",
      " |-- numVotes: string (nullable = true)\n",
      " |-- releaseYear: string (nullable = true)\n",
      "\n"
     ]
    }
   ],
   "source": [
    "df.printSchema()"
   ]
  },
  {
   "cell_type": "code",
   "execution_count": 9,
   "metadata": {},
   "outputs": [
    {
     "name": "stdout",
     "output_type": "stream",
     "text": [
      "+---------+--------------------+-----+--------------------+-------------+--------+-----------+\n",
      "|       id|               title| type|              genres|averageRating|numVotes|releaseYear|\n",
      "+---------+--------------------+-----+--------------------+-------------+--------+-----------+\n",
      "|tt0000009|          Miss Jerry|movie|             Romance|          5.4|     215|       1894|\n",
      "|tt0000147|The Corbett-Fitzs...|movie|Documentary, News...|          5.2|     539|       1897|\n",
      "|tt0000502|            Bohemios|movie|                NULL|          4.4|      18|       1905|\n",
      "|tt0000574|The Story of the ...|movie|Action, Adventure...|            6|     941|       1906|\n",
      "|tt0000591|    The Prodigal Son|movie|               Drama|          5.7|      28|       1907|\n",
      "|tt0000615|  Robbery Under Arms|movie|               Drama|          4.3|      27|       1907|\n",
      "|tt0000630|              Hamlet|movie|               Drama|          3.1|      30|       1908|\n",
      "|tt0000675|         Don Quijote|movie|               Drama|          4.2|      22|       1908|\n",
      "|tt0000679|The Fairylogue an...|movie|  Adventure, Fantasy|          5.2|      78|       1908|\n",
      "|tt0000838|  A Cultura do Cacau|movie|                NULL|         NULL|    NULL|       1909|\n",
      "+---------+--------------------+-----+--------------------+-------------+--------+-----------+\n",
      "only showing top 10 rows\n",
      "\n"
     ]
    }
   ],
   "source": [
    "df.show(10)"
   ]
  },
  {
   "cell_type": "code",
   "execution_count": 12,
   "metadata": {},
   "outputs": [
    {
     "name": "stdout",
     "output_type": "stream",
     "text": [
      "-RECORD 0-----------------------------\n",
      " id            | tt0000009            \n",
      " title         | Miss Jerry           \n",
      " type          | movie                \n",
      " genres        | Romance              \n",
      " averageRating | 5.4                  \n",
      " numVotes      | 215                  \n",
      " releaseYear   | 1894                 \n",
      "-RECORD 1-----------------------------\n",
      " id            | tt0000147            \n",
      " title         | The Corbett-Fitzs... \n",
      " type          | movie                \n",
      " genres        | Documentary, News... \n",
      " averageRating | 5.2                  \n",
      " numVotes      | 539                  \n",
      " releaseYear   | 1897                 \n",
      "-RECORD 2-----------------------------\n",
      " id            | tt0000502            \n",
      " title         | Bohemios             \n",
      " type          | movie                \n",
      " genres        | NULL                 \n",
      " averageRating | 4.4                  \n",
      " numVotes      | 18                   \n",
      " releaseYear   | 1905                 \n",
      "only showing top 3 rows\n",
      "\n"
     ]
    }
   ],
   "source": [
    "df.show(3, vertical=True)"
   ]
  },
  {
   "cell_type": "code",
   "execution_count": 13,
   "metadata": {},
   "outputs": [],
   "source": [
    "df.createOrReplaceTempView(\"imdb\")"
   ]
  },
  {
   "cell_type": "code",
   "execution_count": 35,
   "metadata": {},
   "outputs": [
    {
     "name": "stdout",
     "output_type": "stream",
     "text": [
      "+--------------------+--------------------+\n",
      "|               title|       averageRating|\n",
      "+--------------------+--------------------+\n",
      "|\"'Tis Time for \"\"...|Animation, Comedy...|\n",
      "|  The Truth on Trial|                 9.9|\n",
      "|   Independent Roads|                 9.9|\n",
      "|The Paternal Bond...|                 9.9|\n",
      "|       Project Pivot|                 9.9|\n",
      "|Rumba in the Jung...|                 9.9|\n",
      "|The New Abolition...|                 9.9|\n",
      "|  Cirque du Cambodia|                 9.9|\n",
      "|Sunday Sunday Sunday|                 9.9|\n",
      "|Exteriores: Mulhe...|                 9.9|\n",
      "|Devaki Nandana Va...|                 9.9|\n",
      "|For the Children,...|                 9.9|\n",
      "|Pulling Power fro...|                 9.9|\n",
      "|              Waleed|                 9.9|\n",
      "|    The Lipstick Boy|                 9.9|\n",
      "|  The Christmas Room|                 9.9|\n",
      "|       A Better Life|                 9.9|\n",
      "|  The Burmese Python|                 9.9|\n",
      "|Sarasate: The Spa...|                 9.9|\n",
      "|             Duelers|                 9.9|\n",
      "+--------------------+--------------------+\n",
      "only showing top 20 rows\n",
      "\n"
     ]
    }
   ],
   "source": [
    "spark.sql(\n",
    "    \"\"\"\n",
    "    SELECT title, averageRating \n",
    "    FROM imdb \n",
    "    WHERE averageRating IS NOT NULL \n",
    "    ORDER BY averageRating DESC;\n",
    "    \"\"\"\n",
    ").show()"
   ]
  },
  {
   "cell_type": "code",
   "execution_count": null,
   "metadata": {},
   "outputs": [
    {
     "name": "stdout",
     "output_type": "stream",
     "text": [
      "+--------------------+--------------------+\n",
      "|               title|       averageRating|\n",
      "+--------------------+--------------------+\n",
      "|\"'Tis Time for \"\"...|Animation, Comedy...|\n",
      "|  The Truth on Trial|                 9.9|\n",
      "|Exteriores: Mulhe...|                 9.9|\n",
      "|The Paternal Bond...|                 9.9|\n",
      "|   Independent Roads|                 9.9|\n",
      "|Pulling Power fro...|                 9.9|\n",
      "|Rumba in the Jung...|                 9.9|\n",
      "|              Waleed|                 9.9|\n",
      "|  Cirque du Cambodia|                 9.9|\n",
      "|    The Lipstick Boy|                 9.9|\n",
      "|             Duelers|                 9.9|\n",
      "|       A Better Life|                 9.9|\n",
      "|  The Burmese Python|                 9.9|\n",
      "|Sarasate: The Spa...|                 9.9|\n",
      "|Hya Goshtila Nava...|                 9.9|\n",
      "|Hearing Everett: ...|                 9.9|\n",
      "|Wolf Song: The Movie|                 9.9|\n",
      "|              Zunjar|                 9.9|\n",
      "|  The Christmas Room|                 9.9|\n",
      "|               Akshi|                 9.9|\n",
      "+--------------------+--------------------+\n",
      "only showing top 20 rows\n",
      "\n"
     ]
    }
   ],
   "source": [
    "df.select(\"title\", \"averageRating\").where(df.averageRating.isNotNull()).orderBy(\"averageRating\", ascending=False).show()"
   ]
  }
 ],
 "metadata": {
  "kernelspec": {
   "display_name": "pyspark_env",
   "language": "python",
   "name": "python3"
  },
  "language_info": {
   "codemirror_mode": {
    "name": "ipython",
    "version": 3
   },
   "file_extension": ".py",
   "mimetype": "text/x-python",
   "name": "python",
   "nbconvert_exporter": "python",
   "pygments_lexer": "ipython3",
   "version": "3.12.7"
  }
 },
 "nbformat": 4,
 "nbformat_minor": 2
}
