{
 "cells": [
  {
   "cell_type": "code",
   "execution_count": 2,
   "metadata": {},
   "outputs": [],
   "source": [
    "from pyspark.sql import SparkSession"
   ]
  },
  {
   "cell_type": "code",
   "execution_count": 7,
   "metadata": {},
   "outputs": [],
   "source": [
    "spark = SparkSession.builder.getOrCreate()"
   ]
  },
  {
   "cell_type": "code",
   "execution_count": 4,
   "metadata": {},
   "outputs": [],
   "source": [
    "df = spark.read.csv(\"dataset_Vaccine_Pfizer.csv\", header=True, inferSchema=True)"
   ]
  },
  {
   "cell_type": "code",
   "execution_count": 8,
   "metadata": {},
   "outputs": [],
   "source": [
    "df.createOrReplaceTempView(\"pfizer\")"
   ]
  },
  {
   "cell_type": "markdown",
   "metadata": {},
   "source": [
    "##### SCOPE\n",
    "\n",
    "1. Schema of the dataset.\n",
    "2. Number of tweets.\n",
    "3. Polarity of users.\n",
    "4. Count of contain pfizer.\n",
    "5. Tallest tweet.\n",
    "6. Most used word.\n",
    "7. Subjectivity of targets.\n",
    "8. Data cleaning.\n",
    "9. Relationship between Subjectivity and Polarity. <br><br><br>\n",
    "***  \n",
    "<br>\n",
    "\n",
    "- [x] Schema of the dataset.\n",
    "- [ ] Number of tweets.\n",
    "- [ ] Polarity of users.\n",
    "- [ ] Count of contain pfizer.\n",
    "- [ ] Tallest tweet.\n",
    "- [ ] Most used word.\n",
    "- [ ] Subjectivity of targets.\n",
    "- [ ] Data cleaning.\n",
    "- [ ] Relationship between Subjectivity and Polarity.\n",
    "\n",
    "<br>"
   ]
  },
  {
   "cell_type": "code",
   "execution_count": 6,
   "metadata": {},
   "outputs": [
    {
     "name": "stdout",
     "output_type": "stream",
     "text": [
      "root\n",
      " |-- id: string (nullable = true)\n",
      " |-- Text: string (nullable = true)\n",
      " |-- Subjectivity: string (nullable = true)\n",
      " |-- Polarity: string (nullable = true)\n",
      " |-- Target: string (nullable = true)\n",
      "\n"
     ]
    }
   ],
   "source": [
    "df.printSchema()"
   ]
  },
  {
   "cell_type": "code",
   "execution_count": 12,
   "metadata": {},
   "outputs": [
    {
     "name": "stdout",
     "output_type": "stream",
     "text": [
      "+------------+---------+-------+\n",
      "|    col_name|data_type|comment|\n",
      "+------------+---------+-------+\n",
      "|          id|   string|   NULL|\n",
      "|        Text|   string|   NULL|\n",
      "|Subjectivity|   string|   NULL|\n",
      "|    Polarity|   string|   NULL|\n",
      "|      Target|   string|   NULL|\n",
      "+------------+---------+-------+\n",
      "\n"
     ]
    }
   ],
   "source": [
    "spark.sql(\n",
    "    \"\"\"\n",
    "    DESCRIBE pfizer;\n",
    "    \"\"\"\n",
    ").show()"
   ]
  }
 ],
 "metadata": {
  "kernelspec": {
   "display_name": "pyspark_env",
   "language": "python",
   "name": "python3"
  },
  "language_info": {
   "codemirror_mode": {
    "name": "ipython",
    "version": 3
   },
   "file_extension": ".py",
   "mimetype": "text/x-python",
   "name": "python",
   "nbconvert_exporter": "python",
   "pygments_lexer": "ipython3",
   "version": "3.12.7"
  }
 },
 "nbformat": 4,
 "nbformat_minor": 2
}
