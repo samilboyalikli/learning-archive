{
 "cells": [
  {
   "cell_type": "markdown",
   "metadata": {},
   "source": [
    "01. Schema of the dataset.\n",
    "02. Row count of the dataset.\n",
    "03. Column count of the dataset.\n",
    "04. Describes of descriptive stats.\n",
    "05. Min of descriptive stats.\n",
    "06. Max of descriptive stats.\n",
    "07. Null control for some columns.\n",
    "08. Fill null rows.\n",
    "09. Bedrooms biggest than three.\n",
    "10. Year built < 2010.\n",
    "11. Location count.\n",
    "12. Price order by location.\n",
    "13. Price per square.\n",
    "14. Order by price.\n",
    "15. Price by area.\n",
    "16. Adding has_garage column to dataset."
   ]
  }
 ],
 "metadata": {
  "language_info": {
   "name": "python"
  }
 },
 "nbformat": 4,
 "nbformat_minor": 2
}
